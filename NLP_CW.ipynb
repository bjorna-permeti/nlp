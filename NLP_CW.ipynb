{
 "cells": [
  {
   "cell_type": "code",
   "execution_count": null,
   "metadata": {
    "vscode": {
     "languageId": "plaintext"
    }
   },
   "outputs": [],
   "source": [
    "#Load data\n",
    "\n",
    "def load_data():\n",
    "    rows=[]\n",
    "\t\twith open(os.path.join(self.train_path, 'Dont_Patronize_Me_trainingset/dontpatronizeme_pcl.tsv')) as f:\n",
    "\t\t\tfor line in f.readlines()[4:]:\n",
    "\t\t\t\tpar_id=line.strip().split('\\t')[0]\n",
    "\t\t\t\tart_id = line.strip().split('\\t')[1]\n",
    "\t\t\t\tkeyword=line.strip().split('\\t')[2]\n",
    "\t\t\t\tcountry=line.strip().split('\\t')[3]\n",
    "\t\t\t\tt=line.strip().split('\\t')[4]#.lower()\n",
    "\t\t\t\tl=line.strip().split('\\t')[-1]\n",
    "\t\t\t\tif l=='0' or l=='1':\n",
    "\t\t\t\t\tlbin=0\n",
    "\t\t\t\telse:\n",
    "\t\t\t\t\tlbin=1\n",
    "\t\t\t\trows.append(\n",
    "\t\t\t\t\t{'par_id':par_id,\n",
    "\t\t\t\t\t'art_id':art_id,\n",
    "\t\t\t\t\t'keyword':keyword,\n",
    "\t\t\t\t\t'country':country,\n",
    "\t\t\t\t\t'text':t, \n",
    "\t\t\t\t\t'label':lbin, \n",
    "\t\t\t\t\t'orig_label':l\n",
    "\t\t\t\t\t}\n",
    "\t\t\t\t\t)\n",
    "\t\tdf=pd.DataFrame(rows, columns=['par_id', 'art_id', 'keyword', 'country', 'text', 'label', 'orig_label']) \n",
    "\t\tself.train_task1_df = df"
   ]
  }
 ],
 "metadata": {
  "language_info": {
   "name": "python"
  }
 },
 "nbformat": 4,
 "nbformat_minor": 2
}
